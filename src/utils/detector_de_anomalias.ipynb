{
  "cells": [
    {
      "cell_type": "code",
      "execution_count": null,
      "metadata": {
        "colab": {
          "base_uri": "https://localhost:8080/"
        },
        "id": "gVyTO87-eJMX",
        "outputId": "db4f4f02-6fac-4f0c-f470-0a7281d17125"
      },
      "outputs": [
        {
          "name": "stdout",
          "output_type": "stream",
          "text": [
            "Looking in indexes: https://pypi.org/simple, https://us-python.pkg.dev/colab-wheels/public/simple/\n",
            "Collecting azure-ai-anomalydetector\n",
            "  Downloading azure_ai_anomalydetector-3.0.0b5-py2.py3-none-any.whl (44 kB)\n",
            "\u001b[K     |████████████████████████████████| 44 kB 1.6 MB/s \n",
            "\u001b[?25hCollecting azure-common~=1.1\n",
            "  Downloading azure_common-1.1.28-py2.py3-none-any.whl (14 kB)\n",
            "Collecting msrest>=0.6.21\n",
            "  Downloading msrest-0.7.1-py3-none-any.whl (85 kB)\n",
            "\u001b[K     |████████████████████████████████| 85 kB 3.8 MB/s \n",
            "\u001b[?25hCollecting azure-core<2.0.0,>=1.6.0\n",
            "  Downloading azure_core-1.24.2-py3-none-any.whl (178 kB)\n",
            "\u001b[K     |████████████████████████████████| 178 kB 24.7 MB/s \n",
            "\u001b[?25hRequirement already satisfied: typing-extensions>=4.0.1 in /usr/local/lib/python3.7/dist-packages (from azure-core<2.0.0,>=1.6.0->azure-ai-anomalydetector) (4.1.1)\n",
            "Requirement already satisfied: requests>=2.18.4 in /usr/local/lib/python3.7/dist-packages (from azure-core<2.0.0,>=1.6.0->azure-ai-anomalydetector) (2.23.0)\n",
            "Requirement already satisfied: six>=1.11.0 in /usr/local/lib/python3.7/dist-packages (from azure-core<2.0.0,>=1.6.0->azure-ai-anomalydetector) (1.15.0)\n",
            "Requirement already satisfied: requests-oauthlib>=0.5.0 in /usr/local/lib/python3.7/dist-packages (from msrest>=0.6.21->azure-ai-anomalydetector) (1.3.1)\n",
            "Collecting isodate>=0.6.0\n",
            "  Downloading isodate-0.6.1-py2.py3-none-any.whl (41 kB)\n",
            "\u001b[K     |████████████████████████████████| 41 kB 557 kB/s \n",
            "\u001b[?25hRequirement already satisfied: certifi>=2017.4.17 in /usr/local/lib/python3.7/dist-packages (from msrest>=0.6.21->azure-ai-anomalydetector) (2022.6.15)\n",
            "Requirement already satisfied: idna<3,>=2.5 in /usr/local/lib/python3.7/dist-packages (from requests>=2.18.4->azure-core<2.0.0,>=1.6.0->azure-ai-anomalydetector) (2.10)\n",
            "Requirement already satisfied: urllib3!=1.25.0,!=1.25.1,<1.26,>=1.21.1 in /usr/local/lib/python3.7/dist-packages (from requests>=2.18.4->azure-core<2.0.0,>=1.6.0->azure-ai-anomalydetector) (1.24.3)\n",
            "Requirement already satisfied: chardet<4,>=3.0.2 in /usr/local/lib/python3.7/dist-packages (from requests>=2.18.4->azure-core<2.0.0,>=1.6.0->azure-ai-anomalydetector) (3.0.4)\n",
            "Requirement already satisfied: oauthlib>=3.0.0 in /usr/local/lib/python3.7/dist-packages (from requests-oauthlib>=0.5.0->msrest>=0.6.21->azure-ai-anomalydetector) (3.2.0)\n",
            "Installing collected packages: isodate, azure-core, msrest, azure-common, azure-ai-anomalydetector\n",
            "Successfully installed azure-ai-anomalydetector-3.0.0b5 azure-common-1.1.28 azure-core-1.24.2 isodate-0.6.1 msrest-0.7.1\n"
          ]
        }
      ],
      "source": [
        "!pip install --upgrade azure-ai-anomalydetector"
      ]
    },
    {
      "cell_type": "code",
      "execution_count": null,
      "metadata": {
        "id": "rSirtbegcn-Q"
      },
      "outputs": [],
      "source": [
        "import os\n",
        "from azure.ai.anomalydetector import AnomalyDetectorClient\n",
        "from azure.ai.anomalydetector.models import DetectRequest, TimeSeriesPoint, TimeGranularity, AnomalyDetectorError\n",
        "from azure.core.credentials import AzureKeyCredential\n",
        "import pandas as pd"
      ]
    },
    {
      "cell_type": "code",
      "execution_count": null,
      "metadata": {
        "id": "V0l9ZIcUcpPN"
      },
      "outputs": [],
      "source": [
        "SUBSCRIPTION_KEY = '576b9e334d624ae4b1f27e3feb7de951'\n",
        "ANOMALY_DETECTOR_ENDPOINT = 'https://nite-anomaly-detector.cognitiveservices.azure.com/'\n",
        "TIME_SERIES_DATA_PATH = os.path.join(\"./sample_data\", \"request-data.csv\")"
      ]
    },
    {
      "cell_type": "code",
      "execution_count": null,
      "metadata": {
        "id": "FiyO5qu6ctGm"
      },
      "outputs": [],
      "source": [
        "client = AnomalyDetectorClient(AzureKeyCredential(SUBSCRIPTION_KEY), ANOMALY_DETECTOR_ENDPOINT)"
      ]
    },
    {
      "cell_type": "code",
      "execution_count": null,
      "metadata": {
        "id": "K_BdPzkPcvBY"
      },
      "outputs": [],
      "source": [
        "series = []\n",
        "data_file = pd.read_csv(TIME_SERIES_DATA_PATH, header=None, encoding='utf-8', date_parser=[0])\n",
        "for index, row in data_file.iterrows():\n",
        "    series.append(TimeSeriesPoint(timestamp=row[0], value=row[1]))"
      ]
    },
    {
      "cell_type": "code",
      "execution_count": null,
      "metadata": {
        "id": "Aw36fX98cy2F"
      },
      "outputs": [],
      "source": [
        "request = DetectRequest(series=series, granularity=TimeGranularity.daily)"
      ]
    },
    {
      "cell_type": "code",
      "execution_count": null,
      "metadata": {
        "colab": {
          "base_uri": "https://localhost:8080/"
        },
        "id": "ILe-kYs-c0md",
        "outputId": "a5dfa81e-9427-47ee-f0bd-c4347e4e4f98"
      },
      "outputs": [
        {
          "name": "stdout",
          "output_type": "stream",
          "text": [
            "Detecting the anomaly status of the latest data point.\n",
            "The latest point is detected as anomaly.\n"
          ]
        }
      ],
      "source": [
        "print('Detecting the anomaly status of the latest data point.')\n",
        "\n",
        "try:\n",
        "    response = client.detect_last_point(request)\n",
        "except AnomalyDetectorError as e:\n",
        "    print('Error code: {}'.format(e.error.code), 'Error message: {}'.format(e.error.message))\n",
        "except Exception as e:\n",
        "    print(e)\n",
        "\n",
        "if response.is_anomaly:\n",
        "    print('The latest point is detected as anomaly.')\n",
        "else:\n",
        "    print('The latest point is not detected as anomaly.')"
      ]
    }
  ],
  "metadata": {
    "colab": {
      "collapsed_sections": [],
      "name": "Detector de anomalias.ipynb",
      "provenance": []
    },
    "kernelspec": {
      "display_name": "Python 3",
      "name": "python3"
    },
    "language_info": {
      "name": "python"
    }
  },
  "nbformat": 4,
  "nbformat_minor": 0
}
